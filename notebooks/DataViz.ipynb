{
 "cells": [
  {
   "cell_type": "code",
   "execution_count": 1,
   "metadata": {
    "collapsed": true
   },
   "outputs": [],
   "source": [
    "# import packages\n",
    "import pandas as pd\n",
    "import numpy as np\n",
    "\n",
    "# inline plotting\n",
    "% matplotlib inline\n",
    "\n",
    "# block scientific notation; round to numeric variables to  two decimal places\n",
    "pd.set_option('display.float_format', lambda x: '%.2f' % x)\n",
    "\n",
    "# set display options\n",
    "pd.set_option('display.max_columns', 400)\n",
    "pd.set_option('display.max_rows',400)"
   ]
  },
  {
   "cell_type": "code",
   "execution_count": 2,
   "metadata": {
    "collapsed": false
   },
   "outputs": [
    {
     "data": {
      "text/plain": [
       "((49352, 15), (74659, 14))"
      ]
     },
     "execution_count": 2,
     "metadata": {},
     "output_type": "execute_result"
    }
   ],
   "source": [
    "# read in train, test, and sampel submission files\n",
    "train_df = pd.read_json('train.json')\n",
    "test_df = pd.read_json('test.json')\n",
    "#sample_sub_df = pd.read_csv('sample_submission_2.csv')\n",
    "train_df.shape, test_df.shape"
   ]
  },
  {
   "cell_type": "code",
   "execution_count": 3,
   "metadata": {
    "collapsed": false
   },
   "outputs": [
    {
     "data": {
      "text/plain": [
       "(124011, 15)"
      ]
     },
     "execution_count": 3,
     "metadata": {},
     "output_type": "execute_result"
    }
   ],
   "source": [
    "full_df = pd.concat([train_df,test_df], axis=0, ignore_index=True).copy()\n",
    "full_df.shape"
   ]
  },
  {
   "cell_type": "code",
   "execution_count": 4,
   "metadata": {
    "collapsed": true
   },
   "outputs": [],
   "source": [
    "# convert to datetime data type\n",
    "# break data into individual columns\n",
    "\n",
    "from datetime import datetime\n",
    "\n",
    "full_df['created'] = pd.to_datetime(full_df['created'], format='%Y-%m-%d %H:%M:%S')\n",
    "full_df['year'] = full_df['created'].dt.year\n",
    "full_df['month'] = full_df['created'].dt.month\n",
    "full_df['day'] = full_df['created'].dt.day\n",
    "full_df['hour'] = full_df['created'].dt.hour\n",
    "full_df['weekday'] = full_df['created'].dt.weekday"
   ]
  },
  {
   "cell_type": "code",
   "execution_count": 5,
   "metadata": {
    "collapsed": true
   },
   "outputs": [],
   "source": [
    "# links to photos are stored in array\n",
    "# taking the length of the array provides the count of photos per observation\n",
    "\n",
    "full_df['photos_count'] = full_df.photos.apply(len)"
   ]
  },
  {
   "cell_type": "code",
   "execution_count": 6,
   "metadata": {
    "collapsed": true
   },
   "outputs": [],
   "source": [
    "# feature names are stored in array\n",
    "# taking the length of the array provides the count of features per observation\n",
    "\n",
    "full_df['features_count'] = full_df.features.apply(len)"
   ]
  },
  {
   "cell_type": "code",
   "execution_count": 7,
   "metadata": {
    "collapsed": true
   },
   "outputs": [],
   "source": [
    "# price divided by bedrooms\n",
    "full_df['price_per_bed'] = full_df.apply(lambda x: x.price if x.bedrooms == 0\\\n",
    "                                         else x.price / x.bedrooms, axis=1)"
   ]
  },
  {
   "cell_type": "code",
   "execution_count": 8,
   "metadata": {
    "collapsed": true
   },
   "outputs": [],
   "source": [
    "# price divided by (bedrooms + bathrooms)\n",
    "full_df['price_per_bedbath'] = full_df.apply(lambda x: x.price if x.bedrooms + x.bathrooms == 0\\\n",
    "                                             else x.price / (x.bedrooms + x.bathrooms), axis=1)"
   ]
  },
  {
   "cell_type": "code",
   "execution_count": 9,
   "metadata": {
    "collapsed": true
   },
   "outputs": [],
   "source": [
    "# dummy variable for elevator value in 'features' column\n",
    "full_df['Elevator'] = 0\n",
    "elevator_list = ['elevator', 'elevators', 'Elevators', 'Elevator']\n",
    "for row in range(0,len(full_df)):\n",
    "    for feature in full_df.iloc[row]['features']:               \n",
    "        if feature in elevator_list:\n",
    "            full_df.ix[row,'Elevator'] = 1"
   ]
  },
  {
   "cell_type": "code",
   "execution_count": 10,
   "metadata": {
    "collapsed": true
   },
   "outputs": [],
   "source": [
    "# dummy variable for doorman value in 'features' column\n",
    "full_df['Doorman'] = 0\n",
    "door_list = ['Doorman','doorman','door man', 'Door man', 'Door Man']\n",
    "for row in range(0,len(full_df)):\n",
    "    for feature in full_df.iloc[row]['features']:               \n",
    "        if feature in door_list:\n",
    "            full_df.ix[row,'Doorman'] = 1"
   ]
  },
  {
   "cell_type": "code",
   "execution_count": 11,
   "metadata": {
    "collapsed": true
   },
   "outputs": [],
   "source": [
    "# dummy variable for hardwood value in 'features' column\n",
    "full_df['Hardwood'] = 0\n",
    "hardwood_list = ['Hardwood','hardwood','hard wood', 'Hard wood', 'Hard Wood']\n",
    "for row in range(0,len(full_df)):\n",
    "    for feature in full_df.iloc[row]['features']:               \n",
    "        if feature in hardwood_list:\n",
    "            full_df.ix[row,'Hardwood'] = 1"
   ]
  },
  {
   "cell_type": "code",
   "execution_count": 12,
   "metadata": {
    "collapsed": true
   },
   "outputs": [],
   "source": [
    "# dummy variable for laundry value in 'features' column\n",
    "full_df['Laundry'] = 0\n",
    "laundry_list = ['Laundry','In Unit Laundry', 'laundry']\n",
    "for row in range(0,len(full_df)):\n",
    "    for feature in full_df.iloc[row]['features']:               \n",
    "        if feature in laundry_list:\n",
    "            full_df.ix[row,'Laundry'] = 1"
   ]
  },
  {
   "cell_type": "code",
   "execution_count": 13,
   "metadata": {
    "collapsed": true
   },
   "outputs": [],
   "source": [
    "# dummy variable for dishwasher value in 'features' column\n",
    "full_df['Dishwasher'] = 0\n",
    "dish_list = ['Dishwasher', 'dishwasher']\n",
    "for row in range(0,len(full_df)):\n",
    "    for feature in full_df.iloc[row]['features']:               \n",
    "        if feature in dish_list:\n",
    "            full_df.ix[row,'Dishwasher'] = 1"
   ]
  },
  {
   "cell_type": "code",
   "execution_count": 14,
   "metadata": {
    "collapsed": false
   },
   "outputs": [
    {
     "name": "stdout",
     "output_type": "stream",
     "text": [
      "<class 'pandas.core.frame.DataFrame'>\n",
      "RangeIndex: 124011 entries, 0 to 124010\n",
      "Data columns (total 29 columns):\n",
      "bathrooms            124011 non-null float64\n",
      "bedrooms             124011 non-null int64\n",
      "building_id          124011 non-null object\n",
      "created              124011 non-null datetime64[ns]\n",
      "description          124011 non-null object\n",
      "display_address      124011 non-null object\n",
      "features             124011 non-null object\n",
      "interest_level       49352 non-null object\n",
      "latitude             124011 non-null float64\n",
      "listing_id           124011 non-null int64\n",
      "longitude            124011 non-null float64\n",
      "manager_id           124011 non-null object\n",
      "photos               124011 non-null object\n",
      "price                124011 non-null int64\n",
      "street_address       124011 non-null object\n",
      "year                 124011 non-null int64\n",
      "month                124011 non-null int64\n",
      "day                  124011 non-null int64\n",
      "hour                 124011 non-null int64\n",
      "weekday              124011 non-null int64\n",
      "photos_count         124011 non-null int64\n",
      "features_count       124011 non-null int64\n",
      "price_per_bed        124011 non-null float64\n",
      "price_per_bedbath    124011 non-null float64\n",
      "Elevator             124011 non-null int64\n",
      "Doorman              124011 non-null int64\n",
      "Hardwood             124011 non-null int64\n",
      "Laundry              124011 non-null int64\n",
      "Dishwasher           124011 non-null int64\n",
      "dtypes: datetime64[ns](1), float64(5), int64(15), object(8)\n",
      "memory usage: 27.4+ MB\n"
     ]
    }
   ],
   "source": [
    "full_df.info()"
   ]
  },
  {
   "cell_type": "markdown",
   "metadata": {},
   "source": [
    "## listings by date"
   ]
  },
  {
   "cell_type": "code",
   "execution_count": 15,
   "metadata": {
    "collapsed": false
   },
   "outputs": [
    {
     "data": {
      "text/plain": [
       "(Timestamp('2016-04-01 22:12:41'), Timestamp('2016-06-29 21:55:35'))"
      ]
     },
     "execution_count": 15,
     "metadata": {},
     "output_type": "execute_result"
    }
   ],
   "source": [
    "full_df.created.min(), full_df.created.max()"
   ]
  },
  {
   "cell_type": "code",
   "execution_count": 16,
   "metadata": {
    "collapsed": false
   },
   "outputs": [
    {
     "data": {
      "text/html": [
       "<div>\n",
       "<table border=\"1\" class=\"dataframe\">\n",
       "  <thead>\n",
       "    <tr style=\"text-align: right;\">\n",
       "      <th></th>\n",
       "      <th>created_date</th>\n",
       "      <th>count_of_listings</th>\n",
       "    </tr>\n",
       "  </thead>\n",
       "  <tbody>\n",
       "    <tr>\n",
       "      <th>0</th>\n",
       "      <td>2016-04-01 22:12:41</td>\n",
       "      <td>1</td>\n",
       "    </tr>\n",
       "    <tr>\n",
       "      <th>1</th>\n",
       "      <td>2016-04-01 22:23:31</td>\n",
       "      <td>1</td>\n",
       "    </tr>\n",
       "    <tr>\n",
       "      <th>2</th>\n",
       "      <td>2016-04-01 22:50:13</td>\n",
       "      <td>1</td>\n",
       "    </tr>\n",
       "    <tr>\n",
       "      <th>3</th>\n",
       "      <td>2016-04-01 22:54:42</td>\n",
       "      <td>1</td>\n",
       "    </tr>\n",
       "    <tr>\n",
       "      <th>4</th>\n",
       "      <td>2016-04-01 22:56:00</td>\n",
       "      <td>1</td>\n",
       "    </tr>\n",
       "  </tbody>\n",
       "</table>\n",
       "</div>"
      ],
      "text/plain": [
       "         created_date  count_of_listings\n",
       "0 2016-04-01 22:12:41                  1\n",
       "1 2016-04-01 22:23:31                  1\n",
       "2 2016-04-01 22:50:13                  1\n",
       "3 2016-04-01 22:54:42                  1\n",
       "4 2016-04-01 22:56:00                  1"
      ]
     },
     "execution_count": 16,
     "metadata": {},
     "output_type": "execute_result"
    }
   ],
   "source": [
    "grouped_by_date_df = full_df.groupby('created')['listing_id'].count().reset_index().copy()\n",
    "grouped_by_date_df.columns = ['created_date','count_of_listings']\n",
    "grouped_by_date_df.head(5)"
   ]
  },
  {
   "cell_type": "markdown",
   "metadata": {},
   "source": [
    "## listings by day of month"
   ]
  },
  {
   "cell_type": "code",
   "execution_count": 17,
   "metadata": {
    "collapsed": false
   },
   "outputs": [
    {
     "data": {
      "text/plain": [
       "124011"
      ]
     },
     "execution_count": 17,
     "metadata": {},
     "output_type": "execute_result"
    }
   ],
   "source": [
    "len(full_df.listing_id.unique())"
   ]
  },
  {
   "cell_type": "code",
   "execution_count": 18,
   "metadata": {
    "collapsed": false
   },
   "outputs": [
    {
     "data": {
      "text/html": [
       "<div>\n",
       "<table border=\"1\" class=\"dataframe\">\n",
       "  <thead>\n",
       "    <tr style=\"text-align: right;\">\n",
       "      <th></th>\n",
       "      <th>day_of_month</th>\n",
       "      <th>count_of_listings</th>\n",
       "    </tr>\n",
       "  </thead>\n",
       "  <tbody>\n",
       "    <tr>\n",
       "      <th>0</th>\n",
       "      <td>1</td>\n",
       "      <td>2279</td>\n",
       "    </tr>\n",
       "    <tr>\n",
       "      <th>1</th>\n",
       "      <td>2</td>\n",
       "      <td>4401</td>\n",
       "    </tr>\n",
       "    <tr>\n",
       "      <th>2</th>\n",
       "      <td>3</td>\n",
       "      <td>4406</td>\n",
       "    </tr>\n",
       "  </tbody>\n",
       "</table>\n",
       "</div>"
      ],
      "text/plain": [
       "   day_of_month  count_of_listings\n",
       "0             1               2279\n",
       "1             2               4401\n",
       "2             3               4406"
      ]
     },
     "execution_count": 18,
     "metadata": {},
     "output_type": "execute_result"
    }
   ],
   "source": [
    "grouped_by_day_df = full_df.groupby('day')['listing_id'].count().reset_index().copy()\n",
    "grouped_by_day_df.columns = ['day_of_month','count_of_listings']\n",
    "grouped_by_day_df.head(3)"
   ]
  },
  {
   "cell_type": "code",
   "execution_count": 19,
   "metadata": {
    "collapsed": true
   },
   "outputs": [],
   "source": [
    "grouped_by_day_df.to_csv('grouped_by_day_df.csv',index=False)"
   ]
  },
  {
   "cell_type": "markdown",
   "metadata": {},
   "source": [
    "## listings by day of of week"
   ]
  },
  {
   "cell_type": "code",
   "execution_count": 20,
   "metadata": {
    "collapsed": false
   },
   "outputs": [
    {
     "data": {
      "text/html": [
       "<div>\n",
       "<table border=\"1\" class=\"dataframe\">\n",
       "  <thead>\n",
       "    <tr style=\"text-align: right;\">\n",
       "      <th></th>\n",
       "      <th>day_of_week</th>\n",
       "      <th>count_of_listings</th>\n",
       "    </tr>\n",
       "  </thead>\n",
       "  <tbody>\n",
       "    <tr>\n",
       "      <th>0</th>\n",
       "      <td>Monday</td>\n",
       "      <td>10462</td>\n",
       "    </tr>\n",
       "    <tr>\n",
       "      <th>1</th>\n",
       "      <td>Tuesday</td>\n",
       "      <td>20938</td>\n",
       "    </tr>\n",
       "    <tr>\n",
       "      <th>2</th>\n",
       "      <td>Wednesday</td>\n",
       "      <td>23693</td>\n",
       "    </tr>\n",
       "    <tr>\n",
       "      <th>3</th>\n",
       "      <td>Thursday</td>\n",
       "      <td>20684</td>\n",
       "    </tr>\n",
       "    <tr>\n",
       "      <th>4</th>\n",
       "      <td>Friday</td>\n",
       "      <td>19134</td>\n",
       "    </tr>\n",
       "    <tr>\n",
       "      <th>5</th>\n",
       "      <td>Sautrday</td>\n",
       "      <td>17679</td>\n",
       "    </tr>\n",
       "    <tr>\n",
       "      <th>6</th>\n",
       "      <td>Sunday</td>\n",
       "      <td>11421</td>\n",
       "    </tr>\n",
       "  </tbody>\n",
       "</table>\n",
       "</div>"
      ],
      "text/plain": [
       "  day_of_week  count_of_listings\n",
       "0      Monday              10462\n",
       "1     Tuesday              20938\n",
       "2   Wednesday              23693\n",
       "3    Thursday              20684\n",
       "4      Friday              19134\n",
       "5    Sautrday              17679\n",
       "6      Sunday              11421"
      ]
     },
     "execution_count": 20,
     "metadata": {},
     "output_type": "execute_result"
    }
   ],
   "source": [
    "grouped_by_dow_df = full_df.groupby('weekday')['listing_id'].count().reset_index().copy()\n",
    "grouped_by_dow_df.columns = ['day_of_week','count_of_listings']\n",
    "grouped_by_dow_df['day_of_week'] = grouped_by_dow_df['day_of_week']\\\n",
    "        .map( {0: 'Monday', 1: 'Tuesday', 2: 'Wednesday', 3: 'Thursday', 4: 'Friday', 5: 'Sautrday', 6: 'Sunday'}).astype(str)\n",
    "grouped_by_dow_df.head(7)"
   ]
  },
  {
   "cell_type": "code",
   "execution_count": 21,
   "metadata": {
    "collapsed": true
   },
   "outputs": [],
   "source": [
    "grouped_by_dow_df.to_csv('grouped_by_day_of_week_df.csv',index=False)"
   ]
  },
  {
   "cell_type": "markdown",
   "metadata": {},
   "source": [
    "## listings by number of bedrooms"
   ]
  },
  {
   "cell_type": "code",
   "execution_count": 22,
   "metadata": {
    "collapsed": false
   },
   "outputs": [
    {
     "data": {
      "text/html": [
       "<div>\n",
       "<table border=\"1\" class=\"dataframe\">\n",
       "  <thead>\n",
       "    <tr style=\"text-align: right;\">\n",
       "      <th></th>\n",
       "      <th>bedrooms</th>\n",
       "      <th>count_of_listings</th>\n",
       "    </tr>\n",
       "  </thead>\n",
       "  <tbody>\n",
       "    <tr>\n",
       "      <th>0</th>\n",
       "      <td>0</td>\n",
       "      <td>23564</td>\n",
       "    </tr>\n",
       "    <tr>\n",
       "      <th>1</th>\n",
       "      <td>1</td>\n",
       "      <td>39608</td>\n",
       "    </tr>\n",
       "    <tr>\n",
       "      <th>2</th>\n",
       "      <td>2</td>\n",
       "      <td>37114</td>\n",
       "    </tr>\n",
       "    <tr>\n",
       "      <th>3</th>\n",
       "      <td>3</td>\n",
       "      <td>18149</td>\n",
       "    </tr>\n",
       "    <tr>\n",
       "      <th>4</th>\n",
       "      <td>4</td>\n",
       "      <td>4887</td>\n",
       "    </tr>\n",
       "    <tr>\n",
       "      <th>5</th>\n",
       "      <td>5</td>\n",
       "      <td>569</td>\n",
       "    </tr>\n",
       "    <tr>\n",
       "      <th>6</th>\n",
       "      <td>6</td>\n",
       "      <td>112</td>\n",
       "    </tr>\n",
       "    <tr>\n",
       "      <th>7</th>\n",
       "      <td>7</td>\n",
       "      <td>6</td>\n",
       "    </tr>\n",
       "    <tr>\n",
       "      <th>8</th>\n",
       "      <td>8</td>\n",
       "      <td>2</td>\n",
       "    </tr>\n",
       "  </tbody>\n",
       "</table>\n",
       "</div>"
      ],
      "text/plain": [
       "   bedrooms  count_of_listings\n",
       "0         0              23564\n",
       "1         1              39608\n",
       "2         2              37114\n",
       "3         3              18149\n",
       "4         4               4887\n",
       "5         5                569\n",
       "6         6                112\n",
       "7         7                  6\n",
       "8         8                  2"
      ]
     },
     "execution_count": 22,
     "metadata": {},
     "output_type": "execute_result"
    }
   ],
   "source": [
    "grouped_by_bedrooms_df = full_df.groupby('bedrooms')['listing_id'].count().reset_index().copy()\n",
    "grouped_by_bedrooms_df.columns = ['bedrooms','count_of_listings']\n",
    "grouped_by_bedrooms_df"
   ]
  },
  {
   "cell_type": "code",
   "execution_count": 23,
   "metadata": {
    "collapsed": false
   },
   "outputs": [],
   "source": [
    "grouped_by_bedrooms_df.to_csv('grouped_by_num_of_bedrooms_df.csv',index=False)"
   ]
  },
  {
   "cell_type": "markdown",
   "metadata": {},
   "source": [
    "## gps coords for listings"
   ]
  },
  {
   "cell_type": "code",
   "execution_count": 24,
   "metadata": {
    "collapsed": false
   },
   "outputs": [
    {
     "data": {
      "text/html": [
       "<div>\n",
       "<table border=\"1\" class=\"dataframe\">\n",
       "  <thead>\n",
       "    <tr style=\"text-align: right;\">\n",
       "      <th></th>\n",
       "      <th>latitude</th>\n",
       "      <th>longitude</th>\n",
       "    </tr>\n",
       "  </thead>\n",
       "  <tbody>\n",
       "    <tr>\n",
       "      <th>0</th>\n",
       "      <td>40.71</td>\n",
       "      <td>-73.94</td>\n",
       "    </tr>\n",
       "    <tr>\n",
       "      <th>1</th>\n",
       "      <td>40.79</td>\n",
       "      <td>-73.97</td>\n",
       "    </tr>\n",
       "    <tr>\n",
       "      <th>2</th>\n",
       "      <td>40.74</td>\n",
       "      <td>-74.00</td>\n",
       "    </tr>\n",
       "    <tr>\n",
       "      <th>3</th>\n",
       "      <td>40.75</td>\n",
       "      <td>-73.97</td>\n",
       "    </tr>\n",
       "    <tr>\n",
       "      <th>4</th>\n",
       "      <td>40.82</td>\n",
       "      <td>-73.95</td>\n",
       "    </tr>\n",
       "  </tbody>\n",
       "</table>\n",
       "</div>"
      ],
      "text/plain": [
       "   latitude  longitude\n",
       "0     40.71     -73.94\n",
       "1     40.79     -73.97\n",
       "2     40.74     -74.00\n",
       "3     40.75     -73.97\n",
       "4     40.82     -73.95"
      ]
     },
     "execution_count": 24,
     "metadata": {},
     "output_type": "execute_result"
    }
   ],
   "source": [
    "gps_df = full_df[['latitude','longitude']].copy()\n",
    "gps_df.head(5)"
   ]
  },
  {
   "cell_type": "code",
   "execution_count": 25,
   "metadata": {
    "collapsed": false
   },
   "outputs": [],
   "source": [
    "gps_df.to_csv('gps_coords_df.csv',index=False)"
   ]
  },
  {
   "cell_type": "markdown",
   "metadata": {
    "collapsed": true
   },
   "source": [
    "## gps coords for listings w/ interest level"
   ]
  },
  {
   "cell_type": "code",
   "execution_count": 26,
   "metadata": {
    "collapsed": false
   },
   "outputs": [
    {
     "data": {
      "text/html": [
       "<div>\n",
       "<table border=\"1\" class=\"dataframe\">\n",
       "  <thead>\n",
       "    <tr style=\"text-align: right;\">\n",
       "      <th></th>\n",
       "      <th>latitude</th>\n",
       "      <th>longitude</th>\n",
       "      <th>interest_level</th>\n",
       "    </tr>\n",
       "  </thead>\n",
       "  <tbody>\n",
       "    <tr>\n",
       "      <th>10</th>\n",
       "      <td>40.71</td>\n",
       "      <td>-73.94</td>\n",
       "      <td>medium</td>\n",
       "    </tr>\n",
       "    <tr>\n",
       "      <th>10000</th>\n",
       "      <td>40.79</td>\n",
       "      <td>-73.97</td>\n",
       "      <td>low</td>\n",
       "    </tr>\n",
       "    <tr>\n",
       "      <th>100004</th>\n",
       "      <td>40.74</td>\n",
       "      <td>-74.00</td>\n",
       "      <td>high</td>\n",
       "    </tr>\n",
       "    <tr>\n",
       "      <th>100007</th>\n",
       "      <td>40.75</td>\n",
       "      <td>-73.97</td>\n",
       "      <td>low</td>\n",
       "    </tr>\n",
       "    <tr>\n",
       "      <th>100013</th>\n",
       "      <td>40.82</td>\n",
       "      <td>-73.95</td>\n",
       "      <td>low</td>\n",
       "    </tr>\n",
       "  </tbody>\n",
       "</table>\n",
       "</div>"
      ],
      "text/plain": [
       "        latitude  longitude interest_level\n",
       "10         40.71     -73.94         medium\n",
       "10000      40.79     -73.97            low\n",
       "100004     40.74     -74.00           high\n",
       "100007     40.75     -73.97            low\n",
       "100013     40.82     -73.95            low"
      ]
     },
     "execution_count": 26,
     "metadata": {},
     "output_type": "execute_result"
    }
   ],
   "source": [
    "gps__interestlevel_df = train_df[['latitude','longitude','interest_level']].copy()\n",
    "gps__interestlevel_df.head(5)"
   ]
  },
  {
   "cell_type": "code",
   "execution_count": 27,
   "metadata": {
    "collapsed": true
   },
   "outputs": [],
   "source": [
    "gps__interestlevel_df.to_csv('gps_coords_w_interestlevel_df.csv',index=False)"
   ]
  },
  {
   "cell_type": "markdown",
   "metadata": {},
   "source": [
    "# interest level"
   ]
  },
  {
   "cell_type": "code",
   "execution_count": 28,
   "metadata": {
    "collapsed": false
   },
   "outputs": [
    {
     "data": {
      "text/html": [
       "<div>\n",
       "<table border=\"1\" class=\"dataframe\">\n",
       "  <thead>\n",
       "    <tr style=\"text-align: right;\">\n",
       "      <th></th>\n",
       "      <th>interest_level</th>\n",
       "      <th>count_of_listings</th>\n",
       "    </tr>\n",
       "  </thead>\n",
       "  <tbody>\n",
       "    <tr>\n",
       "      <th>1</th>\n",
       "      <td>low</td>\n",
       "      <td>34284</td>\n",
       "    </tr>\n",
       "    <tr>\n",
       "      <th>2</th>\n",
       "      <td>medium</td>\n",
       "      <td>11229</td>\n",
       "    </tr>\n",
       "    <tr>\n",
       "      <th>0</th>\n",
       "      <td>high</td>\n",
       "      <td>3839</td>\n",
       "    </tr>\n",
       "  </tbody>\n",
       "</table>\n",
       "</div>"
      ],
      "text/plain": [
       "  interest_level  count_of_listings\n",
       "1            low              34284\n",
       "2         medium              11229\n",
       "0           high               3839"
      ]
     },
     "execution_count": 28,
     "metadata": {},
     "output_type": "execute_result"
    }
   ],
   "source": [
    "interestlevel_df = train_df.groupby('interest_level')['listing_id'].count().reset_index().copy()\n",
    "interestlevel_df.columns = ['interest_level','count_of_listings']\n",
    "interestlevel_df = interestlevel_df.sort_values(by='count_of_listings', ascending=False)\n",
    "interestlevel_df.head()"
   ]
  },
  {
   "cell_type": "code",
   "execution_count": 29,
   "metadata": {
    "collapsed": true
   },
   "outputs": [],
   "source": [
    "interestlevel_df.to_csv('interest_level_df.csv',index=False)"
   ]
  },
  {
   "cell_type": "markdown",
   "metadata": {
    "collapsed": true
   },
   "source": [
    "## time series by day"
   ]
  },
  {
   "cell_type": "code",
   "execution_count": 30,
   "metadata": {
    "collapsed": false
   },
   "outputs": [],
   "source": [
    "full_df['ymd'] = full_df['created'].map(lambda x: x.strftime('%Y-%m-%d'))"
   ]
  },
  {
   "cell_type": "code",
   "execution_count": 31,
   "metadata": {
    "collapsed": false
   },
   "outputs": [
    {
     "data": {
      "text/html": [
       "<div>\n",
       "<table border=\"1\" class=\"dataframe\">\n",
       "  <thead>\n",
       "    <tr style=\"text-align: right;\">\n",
       "      <th></th>\n",
       "      <th>date</th>\n",
       "      <th>count_of_listings</th>\n",
       "    </tr>\n",
       "  </thead>\n",
       "  <tbody>\n",
       "    <tr>\n",
       "      <th>0</th>\n",
       "      <td>2016-04-01</td>\n",
       "      <td>8</td>\n",
       "    </tr>\n",
       "    <tr>\n",
       "      <th>1</th>\n",
       "      <td>2016-04-02</td>\n",
       "      <td>1655</td>\n",
       "    </tr>\n",
       "    <tr>\n",
       "      <th>2</th>\n",
       "      <td>2016-04-03</td>\n",
       "      <td>743</td>\n",
       "    </tr>\n",
       "  </tbody>\n",
       "</table>\n",
       "</div>"
      ],
      "text/plain": [
       "         date  count_of_listings\n",
       "0  2016-04-01                  8\n",
       "1  2016-04-02               1655\n",
       "2  2016-04-03                743"
      ]
     },
     "execution_count": 31,
     "metadata": {},
     "output_type": "execute_result"
    }
   ],
   "source": [
    "grouped_by_date_df = full_df.groupby('ymd')['listing_id'].count().reset_index().copy()\n",
    "grouped_by_date_df.columns = ['date','count_of_listings']\n",
    "grouped_by_date_df.head(3)"
   ]
  },
  {
   "cell_type": "code",
   "execution_count": 32,
   "metadata": {
    "collapsed": true
   },
   "outputs": [],
   "source": [
    "grouped_by_date_df.to_csv('interest_level_by_date_df.csv',index=False)"
   ]
  },
  {
   "cell_type": "markdown",
   "metadata": {},
   "source": [
    "## Price of listing based on bedrooms and bathrooms"
   ]
  },
  {
   "cell_type": "code",
   "execution_count": 33,
   "metadata": {
    "collapsed": false
   },
   "outputs": [
    {
     "name": "stdout",
     "output_type": "stream",
     "text": [
      "Empty DataFrame\n",
      "Columns: [bedrooms, 1 bathroom, 2 bathrooms, 3 bathrooms]\n",
      "Index: []\n"
     ]
    }
   ],
   "source": [
    "columns = ['bedrooms', '1 bathroom', '2 bathrooms', '3 bathrooms']\n",
    "bed_df = pd.DataFrame( columns=columns)\n",
    "bed_df = bed_df.fillna(0)\n",
    "print(bed_df)"
   ]
  },
  {
   "cell_type": "code",
   "execution_count": 34,
   "metadata": {
    "collapsed": false
   },
   "outputs": [
    {
     "name": "stdout",
     "output_type": "stream",
     "text": [
      "  bedrooms 1 bathroom 2 bathrooms 3 bathrooms\n",
      "0        1        NaN         NaN         NaN\n",
      "1        2        NaN         NaN         NaN\n",
      "2        3        NaN         NaN         NaN\n"
     ]
    }
   ],
   "source": [
    "beds = 1\n",
    "for i in range(3):\n",
    "    bed_df.set_value(i, 'bedrooms', beds)\n",
    "    beds +=1\n",
    "\n",
    "print(bed_df)"
   ]
  },
  {
   "cell_type": "code",
   "execution_count": 35,
   "metadata": {
    "collapsed": false
   },
   "outputs": [
    {
     "data": {
      "text/html": [
       "<div>\n",
       "<table border=\"1\" class=\"dataframe\">\n",
       "  <thead>\n",
       "    <tr style=\"text-align: right;\">\n",
       "      <th></th>\n",
       "      <th>bedrooms</th>\n",
       "      <th>bathrooms</th>\n",
       "      <th>price</th>\n",
       "    </tr>\n",
       "  </thead>\n",
       "  <tbody>\n",
       "    <tr>\n",
       "      <th>0</th>\n",
       "      <td>0</td>\n",
       "      <td>0.00</td>\n",
       "      <td>3506.32</td>\n",
       "    </tr>\n",
       "    <tr>\n",
       "      <th>1</th>\n",
       "      <td>0</td>\n",
       "      <td>1.00</td>\n",
       "      <td>2488.90</td>\n",
       "    </tr>\n",
       "    <tr>\n",
       "      <th>2</th>\n",
       "      <td>0</td>\n",
       "      <td>1.50</td>\n",
       "      <td>3295.45</td>\n",
       "    </tr>\n",
       "    <tr>\n",
       "      <th>3</th>\n",
       "      <td>0</td>\n",
       "      <td>2.00</td>\n",
       "      <td>5486.70</td>\n",
       "    </tr>\n",
       "    <tr>\n",
       "      <th>4</th>\n",
       "      <td>0</td>\n",
       "      <td>3.00</td>\n",
       "      <td>7383.33</td>\n",
       "    </tr>\n",
       "    <tr>\n",
       "      <th>5</th>\n",
       "      <td>0</td>\n",
       "      <td>4.00</td>\n",
       "      <td>7995.00</td>\n",
       "    </tr>\n",
       "    <tr>\n",
       "      <th>6</th>\n",
       "      <td>1</td>\n",
       "      <td>0.00</td>\n",
       "      <td>2864.94</td>\n",
       "    </tr>\n",
       "    <tr>\n",
       "      <th>7</th>\n",
       "      <td>1</td>\n",
       "      <td>1.00</td>\n",
       "      <td>3189.51</td>\n",
       "    </tr>\n",
       "    <tr>\n",
       "      <th>8</th>\n",
       "      <td>1</td>\n",
       "      <td>1.50</td>\n",
       "      <td>4504.57</td>\n",
       "    </tr>\n",
       "    <tr>\n",
       "      <th>9</th>\n",
       "      <td>1</td>\n",
       "      <td>2.00</td>\n",
       "      <td>4609.69</td>\n",
       "    </tr>\n",
       "    <tr>\n",
       "      <th>10</th>\n",
       "      <td>1</td>\n",
       "      <td>2.50</td>\n",
       "      <td>4872.50</td>\n",
       "    </tr>\n",
       "    <tr>\n",
       "      <th>11</th>\n",
       "      <td>1</td>\n",
       "      <td>3.00</td>\n",
       "      <td>3806.90</td>\n",
       "    </tr>\n",
       "    <tr>\n",
       "      <th>12</th>\n",
       "      <td>1</td>\n",
       "      <td>4.50</td>\n",
       "      <td>2050.00</td>\n",
       "    </tr>\n",
       "    <tr>\n",
       "      <th>13</th>\n",
       "      <td>2</td>\n",
       "      <td>0.00</td>\n",
       "      <td>4267.35</td>\n",
       "    </tr>\n",
       "    <tr>\n",
       "      <th>14</th>\n",
       "      <td>2</td>\n",
       "      <td>1.00</td>\n",
       "      <td>3467.23</td>\n",
       "    </tr>\n",
       "    <tr>\n",
       "      <th>15</th>\n",
       "      <td>2</td>\n",
       "      <td>1.50</td>\n",
       "      <td>4045.14</td>\n",
       "    </tr>\n",
       "    <tr>\n",
       "      <th>16</th>\n",
       "      <td>2</td>\n",
       "      <td>2.00</td>\n",
       "      <td>5499.13</td>\n",
       "    </tr>\n",
       "    <tr>\n",
       "      <th>17</th>\n",
       "      <td>2</td>\n",
       "      <td>2.50</td>\n",
       "      <td>8704.88</td>\n",
       "    </tr>\n",
       "    <tr>\n",
       "      <th>18</th>\n",
       "      <td>2</td>\n",
       "      <td>3.00</td>\n",
       "      <td>9096.83</td>\n",
       "    </tr>\n",
       "    <tr>\n",
       "      <th>19</th>\n",
       "      <td>2</td>\n",
       "      <td>3.50</td>\n",
       "      <td>11000.00</td>\n",
       "    </tr>\n",
       "    <tr>\n",
       "      <th>20</th>\n",
       "      <td>2</td>\n",
       "      <td>5.00</td>\n",
       "      <td>2795.00</td>\n",
       "    </tr>\n",
       "    <tr>\n",
       "      <th>21</th>\n",
       "      <td>2</td>\n",
       "      <td>10.00</td>\n",
       "      <td>3600.00</td>\n",
       "    </tr>\n",
       "    <tr>\n",
       "      <th>22</th>\n",
       "      <td>2</td>\n",
       "      <td>20.00</td>\n",
       "      <td>4900.00</td>\n",
       "    </tr>\n",
       "    <tr>\n",
       "      <th>23</th>\n",
       "      <td>3</td>\n",
       "      <td>0.00</td>\n",
       "      <td>5581.18</td>\n",
       "    </tr>\n",
       "    <tr>\n",
       "      <th>24</th>\n",
       "      <td>3</td>\n",
       "      <td>1.00</td>\n",
       "      <td>3910.16</td>\n",
       "    </tr>\n",
       "    <tr>\n",
       "      <th>25</th>\n",
       "      <td>3</td>\n",
       "      <td>1.50</td>\n",
       "      <td>4095.90</td>\n",
       "    </tr>\n",
       "    <tr>\n",
       "      <th>26</th>\n",
       "      <td>3</td>\n",
       "      <td>2.00</td>\n",
       "      <td>5280.48</td>\n",
       "    </tr>\n",
       "    <tr>\n",
       "      <th>27</th>\n",
       "      <td>3</td>\n",
       "      <td>2.50</td>\n",
       "      <td>9343.58</td>\n",
       "    </tr>\n",
       "    <tr>\n",
       "      <th>28</th>\n",
       "      <td>3</td>\n",
       "      <td>3.00</td>\n",
       "      <td>10778.07</td>\n",
       "    </tr>\n",
       "    <tr>\n",
       "      <th>29</th>\n",
       "      <td>3</td>\n",
       "      <td>3.50</td>\n",
       "      <td>16107.76</td>\n",
       "    </tr>\n",
       "    <tr>\n",
       "      <th>30</th>\n",
       "      <td>3</td>\n",
       "      <td>4.00</td>\n",
       "      <td>14270.80</td>\n",
       "    </tr>\n",
       "    <tr>\n",
       "      <th>31</th>\n",
       "      <td>3</td>\n",
       "      <td>5.00</td>\n",
       "      <td>3600.00</td>\n",
       "    </tr>\n",
       "    <tr>\n",
       "      <th>32</th>\n",
       "      <td>3</td>\n",
       "      <td>20.00</td>\n",
       "      <td>5000.00</td>\n",
       "    </tr>\n",
       "    <tr>\n",
       "      <th>33</th>\n",
       "      <td>3</td>\n",
       "      <td>112.00</td>\n",
       "      <td>3700.00</td>\n",
       "    </tr>\n",
       "    <tr>\n",
       "      <th>34</th>\n",
       "      <td>4</td>\n",
       "      <td>0.00</td>\n",
       "      <td>11182.50</td>\n",
       "    </tr>\n",
       "    <tr>\n",
       "      <th>35</th>\n",
       "      <td>4</td>\n",
       "      <td>1.00</td>\n",
       "      <td>4663.48</td>\n",
       "    </tr>\n",
       "    <tr>\n",
       "      <th>36</th>\n",
       "      <td>4</td>\n",
       "      <td>1.50</td>\n",
       "      <td>4637.21</td>\n",
       "    </tr>\n",
       "    <tr>\n",
       "      <th>37</th>\n",
       "      <td>4</td>\n",
       "      <td>2.00</td>\n",
       "      <td>5798.54</td>\n",
       "    </tr>\n",
       "    <tr>\n",
       "      <th>38</th>\n",
       "      <td>4</td>\n",
       "      <td>2.50</td>\n",
       "      <td>8029.38</td>\n",
       "    </tr>\n",
       "    <tr>\n",
       "      <th>39</th>\n",
       "      <td>4</td>\n",
       "      <td>3.00</td>\n",
       "      <td>10044.91</td>\n",
       "    </tr>\n",
       "    <tr>\n",
       "      <th>40</th>\n",
       "      <td>4</td>\n",
       "      <td>3.50</td>\n",
       "      <td>14268.03</td>\n",
       "    </tr>\n",
       "    <tr>\n",
       "      <th>41</th>\n",
       "      <td>4</td>\n",
       "      <td>4.00</td>\n",
       "      <td>18780.75</td>\n",
       "    </tr>\n",
       "    <tr>\n",
       "      <th>42</th>\n",
       "      <td>4</td>\n",
       "      <td>4.50</td>\n",
       "      <td>23787.77</td>\n",
       "    </tr>\n",
       "    <tr>\n",
       "      <th>43</th>\n",
       "      <td>4</td>\n",
       "      <td>5.00</td>\n",
       "      <td>25098.37</td>\n",
       "    </tr>\n",
       "    <tr>\n",
       "      <th>44</th>\n",
       "      <td>4</td>\n",
       "      <td>5.50</td>\n",
       "      <td>30000.00</td>\n",
       "    </tr>\n",
       "    <tr>\n",
       "      <th>45</th>\n",
       "      <td>4</td>\n",
       "      <td>6.00</td>\n",
       "      <td>27000.00</td>\n",
       "    </tr>\n",
       "    <tr>\n",
       "      <th>46</th>\n",
       "      <td>5</td>\n",
       "      <td>1.00</td>\n",
       "      <td>5904.81</td>\n",
       "    </tr>\n",
       "    <tr>\n",
       "      <th>47</th>\n",
       "      <td>5</td>\n",
       "      <td>1.50</td>\n",
       "      <td>4803.00</td>\n",
       "    </tr>\n",
       "    <tr>\n",
       "      <th>48</th>\n",
       "      <td>5</td>\n",
       "      <td>2.00</td>\n",
       "      <td>7130.11</td>\n",
       "    </tr>\n",
       "    <tr>\n",
       "      <th>49</th>\n",
       "      <td>5</td>\n",
       "      <td>2.50</td>\n",
       "      <td>6876.79</td>\n",
       "    </tr>\n",
       "    <tr>\n",
       "      <th>50</th>\n",
       "      <td>5</td>\n",
       "      <td>3.00</td>\n",
       "      <td>11008.78</td>\n",
       "    </tr>\n",
       "    <tr>\n",
       "      <th>51</th>\n",
       "      <td>5</td>\n",
       "      <td>3.50</td>\n",
       "      <td>11600.00</td>\n",
       "    </tr>\n",
       "    <tr>\n",
       "      <th>52</th>\n",
       "      <td>5</td>\n",
       "      <td>4.00</td>\n",
       "      <td>14706.20</td>\n",
       "    </tr>\n",
       "    <tr>\n",
       "      <th>53</th>\n",
       "      <td>5</td>\n",
       "      <td>4.50</td>\n",
       "      <td>22826.67</td>\n",
       "    </tr>\n",
       "    <tr>\n",
       "      <th>54</th>\n",
       "      <td>5</td>\n",
       "      <td>5.00</td>\n",
       "      <td>23856.35</td>\n",
       "    </tr>\n",
       "    <tr>\n",
       "      <th>55</th>\n",
       "      <td>5</td>\n",
       "      <td>5.50</td>\n",
       "      <td>28500.00</td>\n",
       "    </tr>\n",
       "    <tr>\n",
       "      <th>56</th>\n",
       "      <td>5</td>\n",
       "      <td>6.00</td>\n",
       "      <td>23542.86</td>\n",
       "    </tr>\n",
       "    <tr>\n",
       "      <th>57</th>\n",
       "      <td>5</td>\n",
       "      <td>7.00</td>\n",
       "      <td>60000.00</td>\n",
       "    </tr>\n",
       "    <tr>\n",
       "      <th>58</th>\n",
       "      <td>6</td>\n",
       "      <td>1.00</td>\n",
       "      <td>8666.33</td>\n",
       "    </tr>\n",
       "    <tr>\n",
       "      <th>59</th>\n",
       "      <td>6</td>\n",
       "      <td>1.50</td>\n",
       "      <td>3650.00</td>\n",
       "    </tr>\n",
       "    <tr>\n",
       "      <th>60</th>\n",
       "      <td>6</td>\n",
       "      <td>2.00</td>\n",
       "      <td>7576.00</td>\n",
       "    </tr>\n",
       "    <tr>\n",
       "      <th>61</th>\n",
       "      <td>6</td>\n",
       "      <td>2.50</td>\n",
       "      <td>7166.67</td>\n",
       "    </tr>\n",
       "    <tr>\n",
       "      <th>62</th>\n",
       "      <td>6</td>\n",
       "      <td>3.00</td>\n",
       "      <td>8759.26</td>\n",
       "    </tr>\n",
       "    <tr>\n",
       "      <th>63</th>\n",
       "      <td>6</td>\n",
       "      <td>4.00</td>\n",
       "      <td>11242.32</td>\n",
       "    </tr>\n",
       "    <tr>\n",
       "      <th>64</th>\n",
       "      <td>6</td>\n",
       "      <td>5.00</td>\n",
       "      <td>15298.33</td>\n",
       "    </tr>\n",
       "    <tr>\n",
       "      <th>65</th>\n",
       "      <td>6</td>\n",
       "      <td>6.00</td>\n",
       "      <td>100000.00</td>\n",
       "    </tr>\n",
       "    <tr>\n",
       "      <th>66</th>\n",
       "      <td>6</td>\n",
       "      <td>6.50</td>\n",
       "      <td>20497.50</td>\n",
       "    </tr>\n",
       "    <tr>\n",
       "      <th>67</th>\n",
       "      <td>6</td>\n",
       "      <td>7.50</td>\n",
       "      <td>21995.00</td>\n",
       "    </tr>\n",
       "    <tr>\n",
       "      <th>68</th>\n",
       "      <td>7</td>\n",
       "      <td>1.00</td>\n",
       "      <td>11000.00</td>\n",
       "    </tr>\n",
       "    <tr>\n",
       "      <th>69</th>\n",
       "      <td>7</td>\n",
       "      <td>2.50</td>\n",
       "      <td>7995.00</td>\n",
       "    </tr>\n",
       "    <tr>\n",
       "      <th>70</th>\n",
       "      <td>7</td>\n",
       "      <td>3.00</td>\n",
       "      <td>6923.00</td>\n",
       "    </tr>\n",
       "    <tr>\n",
       "      <th>71</th>\n",
       "      <td>7</td>\n",
       "      <td>5.50</td>\n",
       "      <td>29000.00</td>\n",
       "    </tr>\n",
       "    <tr>\n",
       "      <th>72</th>\n",
       "      <td>7</td>\n",
       "      <td>6.50</td>\n",
       "      <td>14500.00</td>\n",
       "    </tr>\n",
       "    <tr>\n",
       "      <th>73</th>\n",
       "      <td>8</td>\n",
       "      <td>3.00</td>\n",
       "      <td>9995.00</td>\n",
       "    </tr>\n",
       "    <tr>\n",
       "      <th>74</th>\n",
       "      <td>8</td>\n",
       "      <td>4.00</td>\n",
       "      <td>6500.00</td>\n",
       "    </tr>\n",
       "  </tbody>\n",
       "</table>\n",
       "</div>"
      ],
      "text/plain": [
       "    bedrooms  bathrooms     price\n",
       "0          0       0.00   3506.32\n",
       "1          0       1.00   2488.90\n",
       "2          0       1.50   3295.45\n",
       "3          0       2.00   5486.70\n",
       "4          0       3.00   7383.33\n",
       "5          0       4.00   7995.00\n",
       "6          1       0.00   2864.94\n",
       "7          1       1.00   3189.51\n",
       "8          1       1.50   4504.57\n",
       "9          1       2.00   4609.69\n",
       "10         1       2.50   4872.50\n",
       "11         1       3.00   3806.90\n",
       "12         1       4.50   2050.00\n",
       "13         2       0.00   4267.35\n",
       "14         2       1.00   3467.23\n",
       "15         2       1.50   4045.14\n",
       "16         2       2.00   5499.13\n",
       "17         2       2.50   8704.88\n",
       "18         2       3.00   9096.83\n",
       "19         2       3.50  11000.00\n",
       "20         2       5.00   2795.00\n",
       "21         2      10.00   3600.00\n",
       "22         2      20.00   4900.00\n",
       "23         3       0.00   5581.18\n",
       "24         3       1.00   3910.16\n",
       "25         3       1.50   4095.90\n",
       "26         3       2.00   5280.48\n",
       "27         3       2.50   9343.58\n",
       "28         3       3.00  10778.07\n",
       "29         3       3.50  16107.76\n",
       "30         3       4.00  14270.80\n",
       "31         3       5.00   3600.00\n",
       "32         3      20.00   5000.00\n",
       "33         3     112.00   3700.00\n",
       "34         4       0.00  11182.50\n",
       "35         4       1.00   4663.48\n",
       "36         4       1.50   4637.21\n",
       "37         4       2.00   5798.54\n",
       "38         4       2.50   8029.38\n",
       "39         4       3.00  10044.91\n",
       "40         4       3.50  14268.03\n",
       "41         4       4.00  18780.75\n",
       "42         4       4.50  23787.77\n",
       "43         4       5.00  25098.37\n",
       "44         4       5.50  30000.00\n",
       "45         4       6.00  27000.00\n",
       "46         5       1.00   5904.81\n",
       "47         5       1.50   4803.00\n",
       "48         5       2.00   7130.11\n",
       "49         5       2.50   6876.79\n",
       "50         5       3.00  11008.78\n",
       "51         5       3.50  11600.00\n",
       "52         5       4.00  14706.20\n",
       "53         5       4.50  22826.67\n",
       "54         5       5.00  23856.35\n",
       "55         5       5.50  28500.00\n",
       "56         5       6.00  23542.86\n",
       "57         5       7.00  60000.00\n",
       "58         6       1.00   8666.33\n",
       "59         6       1.50   3650.00\n",
       "60         6       2.00   7576.00\n",
       "61         6       2.50   7166.67\n",
       "62         6       3.00   8759.26\n",
       "63         6       4.00  11242.32\n",
       "64         6       5.00  15298.33\n",
       "65         6       6.00 100000.00\n",
       "66         6       6.50  20497.50\n",
       "67         6       7.50  21995.00\n",
       "68         7       1.00  11000.00\n",
       "69         7       2.50   7995.00\n",
       "70         7       3.00   6923.00\n",
       "71         7       5.50  29000.00\n",
       "72         7       6.50  14500.00\n",
       "73         8       3.00   9995.00\n",
       "74         8       4.00   6500.00"
      ]
     },
     "execution_count": 35,
     "metadata": {},
     "output_type": "execute_result"
    }
   ],
   "source": [
    "mean_bed_df = full_df.groupby(['bedrooms', 'bathrooms'])['price'].mean().reset_index().copy()\n",
    "mean_bed_df"
   ]
  },
  {
   "cell_type": "code",
   "execution_count": 36,
   "metadata": {
    "collapsed": false
   },
   "outputs": [
    {
     "data": {
      "text/html": [
       "<div>\n",
       "<table border=\"1\" class=\"dataframe\">\n",
       "  <thead>\n",
       "    <tr style=\"text-align: right;\">\n",
       "      <th></th>\n",
       "      <th>bedrooms</th>\n",
       "      <th>1 bathroom</th>\n",
       "      <th>2 bathrooms</th>\n",
       "      <th>3 bathrooms</th>\n",
       "    </tr>\n",
       "  </thead>\n",
       "  <tbody>\n",
       "    <tr>\n",
       "      <th>0</th>\n",
       "      <td>1</td>\n",
       "      <td>3189.51</td>\n",
       "      <td>4609.69</td>\n",
       "      <td>3806.90</td>\n",
       "    </tr>\n",
       "    <tr>\n",
       "      <th>1</th>\n",
       "      <td>2</td>\n",
       "      <td>3467.23</td>\n",
       "      <td>5499.13</td>\n",
       "      <td>9096.83</td>\n",
       "    </tr>\n",
       "    <tr>\n",
       "      <th>2</th>\n",
       "      <td>3</td>\n",
       "      <td>3910.16</td>\n",
       "      <td>5280.48</td>\n",
       "      <td>10778.07</td>\n",
       "    </tr>\n",
       "  </tbody>\n",
       "</table>\n",
       "</div>"
      ],
      "text/plain": [
       "  bedrooms 1 bathroom 2 bathrooms 3 bathrooms\n",
       "0        1    3189.51     4609.69     3806.90\n",
       "1        2    3467.23     5499.13     9096.83\n",
       "2        3    3910.16     5280.48    10778.07"
      ]
     },
     "execution_count": 36,
     "metadata": {},
     "output_type": "execute_result"
    }
   ],
   "source": [
    "bed_df.set_value(0, '1 bathroom', 3189.51)\n",
    "bed_df.set_value(0, '2 bathrooms', 4609.69)\n",
    "bed_df.set_value(0, '3 bathrooms', 3806.90)\n",
    "bed_df.set_value(1, '1 bathroom', 3467.23)\n",
    "bed_df.set_value(1, '2 bathrooms', 5499.13)\n",
    "bed_df.set_value(1, '3 bathrooms', 9096.83)\n",
    "bed_df.set_value(2, '1 bathroom', 3910.16)\n",
    "bed_df.set_value(2, '2 bathrooms', 5280.48)\n",
    "bed_df.set_value(2, '3 bathrooms', 10778.07)"
   ]
  },
  {
   "cell_type": "code",
   "execution_count": 37,
   "metadata": {
    "collapsed": true
   },
   "outputs": [],
   "source": [
    "bed_df.to_csv('bed_df.csv',index=False)"
   ]
  },
  {
   "cell_type": "markdown",
   "metadata": {},
   "source": [
    "## count of listings for each selected feature"
   ]
  },
  {
   "cell_type": "code",
   "execution_count": 38,
   "metadata": {
    "collapsed": false
   },
   "outputs": [],
   "source": [
    "columns = ['feature','including', 'excluding']\n",
    "feature_df = pd.DataFrame(columns=columns)\n",
    "feature_df = feature_df.fillna(0)"
   ]
  },
  {
   "cell_type": "code",
   "execution_count": 39,
   "metadata": {
    "collapsed": false
   },
   "outputs": [
    {
     "name": "stdout",
     "output_type": "stream",
     "text": [
      "[58184, 123932, 71509, 123665, 71988]\n",
      "[65827, 79, 52502, 346, 52023]\n"
     ]
    }
   ],
   "source": [
    "list_including = []\n",
    "list_excluding = []\n",
    "def group(list):\n",
    "    for i in list:\n",
    "        grouped_by_f_df = full_df.groupby([i])['listing_id'].count().reset_index().copy()\n",
    "        list_including.append(grouped_by_f_df['listing_id'][0])\n",
    "        list_excluding.append(grouped_by_f_df['listing_id'][1])      \n",
    "list = [\"Elevator\", \"Laundry\", \"Doorman\", \"Hardwood\", \"Dishwasher\"]\n",
    "group(list)\n",
    "\n",
    "print (list_including)\n",
    "print (list_excluding)\n",
    "\n"
   ]
  },
  {
   "cell_type": "code",
   "execution_count": 40,
   "metadata": {
    "collapsed": false
   },
   "outputs": [
    {
     "data": {
      "text/html": [
       "<div>\n",
       "<table border=\"1\" class=\"dataframe\">\n",
       "  <thead>\n",
       "    <tr style=\"text-align: right;\">\n",
       "      <th></th>\n",
       "      <th>feature</th>\n",
       "      <th>including</th>\n",
       "      <th>excluding</th>\n",
       "    </tr>\n",
       "  </thead>\n",
       "  <tbody>\n",
       "    <tr>\n",
       "      <th>0</th>\n",
       "      <td>Elevator</td>\n",
       "      <td>58184</td>\n",
       "      <td>65827</td>\n",
       "    </tr>\n",
       "    <tr>\n",
       "      <th>1</th>\n",
       "      <td>Laundry</td>\n",
       "      <td>123932</td>\n",
       "      <td>79</td>\n",
       "    </tr>\n",
       "    <tr>\n",
       "      <th>2</th>\n",
       "      <td>Doorman</td>\n",
       "      <td>71509</td>\n",
       "      <td>52502</td>\n",
       "    </tr>\n",
       "    <tr>\n",
       "      <th>3</th>\n",
       "      <td>Hardwood</td>\n",
       "      <td>123665</td>\n",
       "      <td>346</td>\n",
       "    </tr>\n",
       "    <tr>\n",
       "      <th>4</th>\n",
       "      <td>Dishwasher</td>\n",
       "      <td>71988</td>\n",
       "      <td>52023</td>\n",
       "    </tr>\n",
       "  </tbody>\n",
       "</table>\n",
       "</div>"
      ],
      "text/plain": [
       "      feature  including  excluding\n",
       "0    Elevator      58184      65827\n",
       "1     Laundry     123932         79\n",
       "2     Doorman      71509      52502\n",
       "3    Hardwood     123665        346\n",
       "4  Dishwasher      71988      52023"
      ]
     },
     "execution_count": 40,
     "metadata": {},
     "output_type": "execute_result"
    }
   ],
   "source": [
    "feature_df['including'] = list_including\n",
    "feature_df['excluding'] = list_excluding\n",
    "feature_df['feature'] = [\"Elevator\", \"Laundry\", \"Doorman\", \"Hardwood\", \"Dishwasher\"]\n",
    "feature_df"
   ]
  },
  {
   "cell_type": "code",
   "execution_count": 41,
   "metadata": {
    "collapsed": false
   },
   "outputs": [],
   "source": [
    "feature_df.to_csv('feature_df.csv',index=False)"
   ]
  },
  {
   "cell_type": "markdown",
   "metadata": {},
   "source": [
    "## price of listing based on available feature"
   ]
  },
  {
   "cell_type": "code",
   "execution_count": 47,
   "metadata": {
    "collapsed": false
   },
   "outputs": [
    {
     "name": "stdout",
     "output_type": "stream",
     "text": [
      "Empty DataFrame\n",
      "Columns: [feature, price_no, price_yes]\n",
      "Index: []\n"
     ]
    }
   ],
   "source": [
    "columns = ['feature','price_no',\"price_yes\"]\n",
    "fprice_df = pd.DataFrame(columns=columns)\n",
    "fprice_df = fprice_df.fillna(0)\n",
    "print(fprice_df)"
   ]
  },
  {
   "cell_type": "code",
   "execution_count": 48,
   "metadata": {
    "collapsed": true
   },
   "outputs": [],
   "source": [
    "list1=['Elevator','Laundry','Doorman','Hardwood',\"Dishwasher\"]"
   ]
  },
  {
   "cell_type": "code",
   "execution_count": 49,
   "metadata": {
    "collapsed": false
   },
   "outputs": [
    {
     "name": "stdout",
     "output_type": "stream",
     "text": [
      "[3277.6561769558643, 3781.7866087854632, 3239.8919296871723, 3785.1972506368011, 3512.3598516419402]\n",
      "[4226.5125860209337, 3055.8607594936707, 4518.7680278846519, 2397.0317919075146, 4153.5096015224035]\n"
     ]
    }
   ],
   "source": [
    "list2 = []\n",
    "list3 =[]\n",
    "def group(list):\n",
    "    for i in list:\n",
    "        grouped_by_fprice_df = full_df.groupby([i])['price'].mean().reset_index().copy()\n",
    "        list2.append(grouped_by_fprice_df['price'][0])\n",
    "        list3.append(grouped_by_fprice_df['price'][1])\n",
    "list = [\"Elevator\", \"Laundry\", \"Doorman\", \"Hardwood\", \"Dishwasher\"]\n",
    "group(list)\n",
    "print (list2)\n",
    "print (list3)\n"
   ]
  },
  {
   "cell_type": "code",
   "execution_count": 50,
   "metadata": {
    "collapsed": false
   },
   "outputs": [
    {
     "name": "stdout",
     "output_type": "stream",
     "text": [
      "      feature  price_no  price_yes\n",
      "0    Elevator   3277.66    4226.51\n",
      "1     Laundry   3781.79    3055.86\n",
      "2     Doorman   3239.89    4518.77\n",
      "3    Hardwood   3785.20    2397.03\n",
      "4  Dishwasher   3512.36    4153.51\n"
     ]
    }
   ],
   "source": [
    "fprice_df['feature'] = list1\n",
    "fprice_df['price_no'] = list2\n",
    "fprice_df['price_yes'] = list3\n",
    "print(fprice_df)"
   ]
  },
  {
   "cell_type": "code",
   "execution_count": 51,
   "metadata": {
    "collapsed": false
   },
   "outputs": [],
   "source": [
    "fprice_df.to_csv('fprice.csv',index=False)"
   ]
  }
 ],
 "metadata": {
  "anaconda-cloud": {},
  "kernelspec": {
   "display_name": "Python [conda root]",
   "language": "python",
   "name": "conda-root-py"
  },
  "language_info": {
   "codemirror_mode": {
    "name": "ipython",
    "version": 3
   },
   "file_extension": ".py",
   "mimetype": "text/x-python",
   "name": "python",
   "nbconvert_exporter": "python",
   "pygments_lexer": "ipython3",
   "version": "3.5.2"
  }
 },
 "nbformat": 4,
 "nbformat_minor": 0
}
