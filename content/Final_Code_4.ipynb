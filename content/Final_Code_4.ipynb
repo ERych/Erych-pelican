{
 "cells": [
  {
   "cell_type": "code",
   "execution_count": 1,
   "metadata": {
    "collapsed": false
   },
   "outputs": [],
   "source": [
    "import pandas as pd\n",
    "import numpy as np\n",
    "import matplotlib.pyplot as plt\n",
    "import scipy.stats as stats\n",
    "import sklearn\n",
    "from string import punctuation\n",
    "from sklearn import metrics\n",
    "from sklearn.linear_model import LinearRegression\n",
    "from sklearn.linear_model import LogisticRegression as LR\n",
    "from sklearn.cross_validation import train_test_split\n",
    "from sklearn.metrics import accuracy_score \n",
    "import math\n",
    "import nltk\n",
    "from nltk.corpus import wordnet\n",
    "% matplotlib inline\n",
    "from wordcloud import WordCloud, STOPWORDS"
   ]
  },
  {
   "cell_type": "code",
   "execution_count": 2,
   "metadata": {
    "collapsed": true
   },
   "outputs": [],
   "source": [
    "data = pd.read_csv(\"loan.csv\", usecols=(\"purpose\", \"title\",\"id\"))"
   ]
  },
  {
   "cell_type": "code",
   "execution_count": 3,
   "metadata": {
    "collapsed": true
   },
   "outputs": [],
   "source": [
    "#the title column has a short desciption of the borrower's loan. This is the field we will use, but first we need to make sure it is a string. \n",
    "data['title'] = data['title'].astype(str)"
   ]
  },
  {
   "cell_type": "code",
   "execution_count": 4,
   "metadata": {
    "collapsed": true
   },
   "outputs": [],
   "source": [
    "#creates a list of indexes for all titles under purpose = other. \n",
    "other_index = data[data['purpose'] == \"other\"].index.tolist()"
   ]
  },
  {
   "cell_type": "code",
   "execution_count": 5,
   "metadata": {
    "collapsed": true
   },
   "outputs": [],
   "source": [
    "#these are the words that we don't care about in the string and don't want to include\n",
    "bad_list =['if','the',\"on\",\"and\",\"for\",\"my\", \"to\", \"a\", \"off\", \"pay\", \"loan\", \"other\", \"payoff\"]"
   ]
  },
  {
   "cell_type": "code",
   "execution_count": 6,
   "metadata": {
    "collapsed": true
   },
   "outputs": [],
   "source": [
    "#This loop provides a list of words contained in each string and the corresponding loan id\n",
    "key_list = []\n",
    "word_list=[]\n",
    "for i in other_index:\n",
    "    local_list=[]\n",
    "    #splits string into separate words and creates a list\n",
    "    local_list = data['title'][i].split()\n",
    "    for word in local_list:\n",
    "        #makes word all lowercase\n",
    "        word = word.lower()   \n",
    "        #removes any punctuation\n",
    "        for p in list(punctuation):\n",
    "            word=word.replace(p,'')\n",
    "        if word not in bad_list:\n",
    "            #appends word and loan id lists outside of function above\n",
    "            word_list.append(word)\n",
    "            key_list.append(data['id'][i])"
   ]
  },
  {
   "cell_type": "code",
   "execution_count": 7,
   "metadata": {
    "collapsed": true
   },
   "outputs": [],
   "source": [
    "#create an empty dataframe\n",
    "words_df = pd.DataFrame()\n",
    "#adds the two news lists as columns of the dataframe\n",
    "words_df['id'] = key_list\n",
    "words_df['word'] = word_list"
   ]
  },
  {
   "cell_type": "code",
   "execution_count": null,
   "metadata": {
    "collapsed": false
   },
   "outputs": [],
   "source": [
    "#note: this cell is slow to run\n",
    "#As a way to visualize what we've done so far, I created a word cloud using our text data\n",
    "\n",
    "# join tweets to a single string\n",
    "\n",
    "words = ' '.join(words_df['word'])\n",
    "#creates the word could\n",
    "wordcloud = WordCloud(\n",
    "                      font_path='/Users/lizdeschaine/Library/Fonts/Arial.ttf',\n",
    "                      background_color='black',\n",
    "                      width=5000,\n",
    "                      height=4000\n",
    "                     ).generate(words)\n",
    "plt.imshow(wordcloud)\n",
    "plt.axis('off')\n",
    "plt.show()"
   ]
  },
  {
   "cell_type": "code",
   "execution_count": 10,
   "metadata": {
    "collapsed": false
   },
   "outputs": [
    {
     "name": "stderr",
     "output_type": "stream",
     "text": [
      "//anaconda/lib/python3.5/site-packages/IPython/core/interactiveshell.py:2723: DtypeWarning: Columns (19,55) have mixed types. Specify dtype option on import or set low_memory=False.\n",
      "  interactivity=interactivity, compiler=compiler, result=result)\n"
     ]
    }
   ],
   "source": [
    "#now we want all of the data to merge with our string data frame\n",
    "full_data = pd.read_csv(\"loan.csv\")\n",
    "#only use the first 30 columns\n",
    "full_data = full_data.ix[:,:30]\n",
    "#merge the two dataframes on 'id'\n",
    "merge_df = pd.merge(full_data, words_df, on='id')\n"
   ]
  },
  {
   "cell_type": "code",
   "execution_count": 11,
   "metadata": {
    "collapsed": false
   },
   "outputs": [
    {
     "data": {
      "text/html": [
       "<div>\n",
       "<table border=\"1\" class=\"dataframe\">\n",
       "  <thead>\n",
       "    <tr style=\"text-align: right;\">\n",
       "      <th></th>\n",
       "      <th>id</th>\n",
       "      <th>member_id</th>\n",
       "      <th>loan_amnt</th>\n",
       "      <th>funded_amnt</th>\n",
       "      <th>funded_amnt_inv</th>\n",
       "      <th>term</th>\n",
       "      <th>int_rate</th>\n",
       "      <th>installment</th>\n",
       "      <th>grade</th>\n",
       "      <th>sub_grade</th>\n",
       "      <th>...</th>\n",
       "      <th>title</th>\n",
       "      <th>zip_code</th>\n",
       "      <th>addr_state</th>\n",
       "      <th>dti</th>\n",
       "      <th>delinq_2yrs</th>\n",
       "      <th>earliest_cr_line</th>\n",
       "      <th>inq_last_6mths</th>\n",
       "      <th>mths_since_last_delinq</th>\n",
       "      <th>mths_since_last_record</th>\n",
       "      <th>word</th>\n",
       "    </tr>\n",
       "  </thead>\n",
       "  <tbody>\n",
       "    <tr>\n",
       "      <th>0</th>\n",
       "      <td>1076863</td>\n",
       "      <td>1277178</td>\n",
       "      <td>10000.0</td>\n",
       "      <td>10000.0</td>\n",
       "      <td>10000.0</td>\n",
       "      <td>36 months</td>\n",
       "      <td>13.49</td>\n",
       "      <td>339.31</td>\n",
       "      <td>C</td>\n",
       "      <td>C1</td>\n",
       "      <td>...</td>\n",
       "      <td>personel</td>\n",
       "      <td>917xx</td>\n",
       "      <td>CA</td>\n",
       "      <td>20.00</td>\n",
       "      <td>0.0</td>\n",
       "      <td>Feb-1996</td>\n",
       "      <td>1.0</td>\n",
       "      <td>35.0</td>\n",
       "      <td>NaN</td>\n",
       "      <td>personel</td>\n",
       "    </tr>\n",
       "    <tr>\n",
       "      <th>1</th>\n",
       "      <td>1075358</td>\n",
       "      <td>1311748</td>\n",
       "      <td>3000.0</td>\n",
       "      <td>3000.0</td>\n",
       "      <td>3000.0</td>\n",
       "      <td>60 months</td>\n",
       "      <td>12.69</td>\n",
       "      <td>67.79</td>\n",
       "      <td>B</td>\n",
       "      <td>B5</td>\n",
       "      <td>...</td>\n",
       "      <td>Personal</td>\n",
       "      <td>972xx</td>\n",
       "      <td>OR</td>\n",
       "      <td>17.94</td>\n",
       "      <td>0.0</td>\n",
       "      <td>Jan-1996</td>\n",
       "      <td>0.0</td>\n",
       "      <td>38.0</td>\n",
       "      <td>NaN</td>\n",
       "      <td>personal</td>\n",
       "    </tr>\n",
       "    <tr>\n",
       "      <th>2</th>\n",
       "      <td>1071570</td>\n",
       "      <td>1306721</td>\n",
       "      <td>5375.0</td>\n",
       "      <td>5375.0</td>\n",
       "      <td>5350.0</td>\n",
       "      <td>60 months</td>\n",
       "      <td>12.69</td>\n",
       "      <td>121.45</td>\n",
       "      <td>B</td>\n",
       "      <td>B5</td>\n",
       "      <td>...</td>\n",
       "      <td>Building my credit history.</td>\n",
       "      <td>774xx</td>\n",
       "      <td>TX</td>\n",
       "      <td>18.08</td>\n",
       "      <td>0.0</td>\n",
       "      <td>Sep-2004</td>\n",
       "      <td>0.0</td>\n",
       "      <td>NaN</td>\n",
       "      <td>NaN</td>\n",
       "      <td>building</td>\n",
       "    </tr>\n",
       "    <tr>\n",
       "      <th>3</th>\n",
       "      <td>1071570</td>\n",
       "      <td>1306721</td>\n",
       "      <td>5375.0</td>\n",
       "      <td>5375.0</td>\n",
       "      <td>5350.0</td>\n",
       "      <td>60 months</td>\n",
       "      <td>12.69</td>\n",
       "      <td>121.45</td>\n",
       "      <td>B</td>\n",
       "      <td>B5</td>\n",
       "      <td>...</td>\n",
       "      <td>Building my credit history.</td>\n",
       "      <td>774xx</td>\n",
       "      <td>TX</td>\n",
       "      <td>18.08</td>\n",
       "      <td>0.0</td>\n",
       "      <td>Sep-2004</td>\n",
       "      <td>0.0</td>\n",
       "      <td>NaN</td>\n",
       "      <td>NaN</td>\n",
       "      <td>credit</td>\n",
       "    </tr>\n",
       "    <tr>\n",
       "      <th>4</th>\n",
       "      <td>1071570</td>\n",
       "      <td>1306721</td>\n",
       "      <td>5375.0</td>\n",
       "      <td>5375.0</td>\n",
       "      <td>5350.0</td>\n",
       "      <td>60 months</td>\n",
       "      <td>12.69</td>\n",
       "      <td>121.45</td>\n",
       "      <td>B</td>\n",
       "      <td>B5</td>\n",
       "      <td>...</td>\n",
       "      <td>Building my credit history.</td>\n",
       "      <td>774xx</td>\n",
       "      <td>TX</td>\n",
       "      <td>18.08</td>\n",
       "      <td>0.0</td>\n",
       "      <td>Sep-2004</td>\n",
       "      <td>0.0</td>\n",
       "      <td>NaN</td>\n",
       "      <td>NaN</td>\n",
       "      <td>history</td>\n",
       "    </tr>\n",
       "  </tbody>\n",
       "</table>\n",
       "<p>5 rows × 31 columns</p>\n",
       "</div>"
      ],
      "text/plain": [
       "        id  member_id  loan_amnt  funded_amnt  funded_amnt_inv        term  \\\n",
       "0  1076863    1277178    10000.0      10000.0          10000.0   36 months   \n",
       "1  1075358    1311748     3000.0       3000.0           3000.0   60 months   \n",
       "2  1071570    1306721     5375.0       5375.0           5350.0   60 months   \n",
       "3  1071570    1306721     5375.0       5375.0           5350.0   60 months   \n",
       "4  1071570    1306721     5375.0       5375.0           5350.0   60 months   \n",
       "\n",
       "   int_rate  installment grade sub_grade    ...     \\\n",
       "0     13.49       339.31     C        C1    ...      \n",
       "1     12.69        67.79     B        B5    ...      \n",
       "2     12.69       121.45     B        B5    ...      \n",
       "3     12.69       121.45     B        B5    ...      \n",
       "4     12.69       121.45     B        B5    ...      \n",
       "\n",
       "                         title zip_code addr_state    dti delinq_2yrs  \\\n",
       "0                     personel    917xx         CA  20.00         0.0   \n",
       "1                     Personal    972xx         OR  17.94         0.0   \n",
       "2  Building my credit history.    774xx         TX  18.08         0.0   \n",
       "3  Building my credit history.    774xx         TX  18.08         0.0   \n",
       "4  Building my credit history.    774xx         TX  18.08         0.0   \n",
       "\n",
       "  earliest_cr_line inq_last_6mths mths_since_last_delinq  \\\n",
       "0         Feb-1996            1.0                   35.0   \n",
       "1         Jan-1996            0.0                   38.0   \n",
       "2         Sep-2004            0.0                    NaN   \n",
       "3         Sep-2004            0.0                    NaN   \n",
       "4         Sep-2004            0.0                    NaN   \n",
       "\n",
       "  mths_since_last_record      word  \n",
       "0                    NaN  personel  \n",
       "1                    NaN  personal  \n",
       "2                    NaN  building  \n",
       "3                    NaN    credit  \n",
       "4                    NaN   history  \n",
       "\n",
       "[5 rows x 31 columns]"
      ]
     },
     "execution_count": 11,
     "metadata": {},
     "output_type": "execute_result"
    }
   ],
   "source": [
    "#Checking to see if the merge worked correctly. If the column \"word\" is there - it did!\n",
    "merge_df.head()"
   ]
  },
  {
   "cell_type": "code",
   "execution_count": 12,
   "metadata": {
    "collapsed": true
   },
   "outputs": [],
   "source": [
    "#This function will create binary variable for the loan status. I assign each classification a \"1\" or a \"0\" and then apply it to the column at the end.\n",
    "def loan_stat_num(x):\n",
    "    if x == \"Charged Off\":\n",
    "        return 0\n",
    "    if x == \"Current\":\n",
    "        return 1\n",
    "    if x == \"Default\":\n",
    "        return 0\n",
    "    if x == \"Does not meet the credit policy. Status:Charged Off\":\n",
    "        return 0\n",
    "    if x == \"Does not meet the credit policy. Status:Fully Paid\":\n",
    "        return 1\n",
    "    if x == \"Fully Paid\":\n",
    "        return 1\n",
    "    if x == \"In Grace Period\":\n",
    "        return 1\n",
    "    if x == \"Issued\":\n",
    "        return 0\n",
    "    if x == \"Late (16-30 days)\":\n",
    "        return 0\n",
    "    if x == \"Late (31-120 days)\":\n",
    "        return 0\n",
    "merge_df[\"loan_stat_num\"] = merge_df[\"loan_status\"].apply(loan_stat_num)"
   ]
  },
  {
   "cell_type": "code",
   "execution_count": 13,
   "metadata": {
    "collapsed": true
   },
   "outputs": [],
   "source": [
    "#Like with loan status, we assign a dummy variable to the loan grades. This was incase we wanted to use grade as our dependent variable. \n",
    "def grade_num(x):\n",
    "    if x == \"A\":\n",
    "        return 7\n",
    "    if x == \"B\":\n",
    "        return 6\n",
    "    if x == \"C\":\n",
    "        return 5\n",
    "    if x == \"D\":\n",
    "        return 4\n",
    "    if x == \"E\":\n",
    "        return 3\n",
    "    if x == \"F\":\n",
    "        return 2\n",
    "    if x == \"G\":\n",
    "        return 1\n",
    "merge_df[\"grade_num\"] = merge_df[\"grade\"].apply(grade_num)"
   ]
  },
  {
   "cell_type": "code",
   "execution_count": 14,
   "metadata": {
    "collapsed": false
   },
   "outputs": [],
   "source": [
    "#We first create a new column \"cat\" for category \n",
    "merge_df['cat'] = \"\"\n",
    "#The column is empty and will contain a string \n",
    "merge_df['cat'] = merge_df['cat'].astype(str)\n",
    "\n",
    "#Here we employ the NLTK. I learned how to write parts of this code using this sentdex page: https://pythonprogramming.net/wordnet-nltk-tutorial/\n",
    "def syns(target_word):\n",
    "    local_list = []\n",
    "    #the synset will contain a set up lemmas\n",
    "    for syn in wordnet.synsets(target_word):\n",
    "        #this appends the word contained in each lemma to the list\n",
    "        for l in syn.lemmas():\n",
    "            local_list.append(l.name())\n",
    "    \n",
    "    #capturing words not included in the wordnet\n",
    "    if target_word=='car':\n",
    "        local_list.append('motorcycle')\n",
    "    if target_word=='medical':\n",
    "        local_list.append('dental')\n",
    "    \n",
    "    #iterating through each row in the merge_df dataframe to add the captured words to the corresponding synonym\n",
    "    for i, row in merge_df.iterrows():\n",
    "        if merge_df['word'][i] in local_list:\n",
    "            merge_df.set_value(i,'cat',target_word)\n",
    "\n",
    "#capturing words and their synonyms for the following categories:            \n",
    "syns('wedding')\n",
    "syns('home')\n",
    "syns('car')\n",
    "syns('medical')\n",
    "syns('vacation')\n",
    "syns('business')"
   ]
  },
  {
   "cell_type": "code",
   "execution_count": 15,
   "metadata": {
    "collapsed": true
   },
   "outputs": [],
   "source": [
    "#now that we've separated the words in the string, identified synonyms, and linked it back to the dataframe,\n",
    "#these are the categories to be used for our analysis\n",
    "category_list = [\"home\", \"wedding\", \"medical\", \"business\", \"car\", \"vacation\"]"
   ]
  },
  {
   "cell_type": "code",
   "execution_count": 17,
   "metadata": {
    "collapsed": false
   },
   "outputs": [
    {
     "data": {
      "text/plain": [
       "8        1\n",
       "16       1\n",
       "22       1\n",
       "47       1\n",
       "49       1\n",
       "54       0\n",
       "57       0\n",
       "59       0\n",
       "69       1\n",
       "73       1\n",
       "83       1\n",
       "96       1\n",
       "101      1\n",
       "102      0\n",
       "104      1\n",
       "109      1\n",
       "111      1\n",
       "123      1\n",
       "147      1\n",
       "151      1\n",
       "153      1\n",
       "157      1\n",
       "166      1\n",
       "176      1\n",
       "178      1\n",
       "181      1\n",
       "194      1\n",
       "196      0\n",
       "198      1\n",
       "200      1\n",
       "        ..\n",
       "18459    1\n",
       "18463    1\n",
       "18466    1\n",
       "18470    1\n",
       "18479    1\n",
       "18485    1\n",
       "18487    1\n",
       "18489    1\n",
       "18493    1\n",
       "18505    1\n",
       "18524    0\n",
       "18528    1\n",
       "18529    1\n",
       "18544    1\n",
       "18551    0\n",
       "18559    1\n",
       "18592    1\n",
       "18605    1\n",
       "18610    1\n",
       "18614    1\n",
       "18633    1\n",
       "18635    1\n",
       "18668    1\n",
       "18685    1\n",
       "18687    1\n",
       "18691    1\n",
       "18699    1\n",
       "18701    1\n",
       "18707    1\n",
       "18748    1\n",
       "Name: loan_stat_num, dtype: int64"
      ]
     },
     "execution_count": 17,
     "metadata": {},
     "output_type": "execute_result"
    }
   ],
   "source": [
    "#new dataframe containing only the data we have categorized for our analysis\n",
    "cat = merge_df.loc[merge_df['cat'] != \"\"]\n",
    "cat['int_rate'].dropna()\n",
    "cat['dti'].dropna()\n",
    "cat['loan_amnt'].dropna()\n",
    "cat['loan_stat_num'].dropna()"
   ]
  },
  {
   "cell_type": "markdown",
   "metadata": {},
   "source": [
    "# Logistic Regression Model and Function"
   ]
  },
  {
   "cell_type": "code",
   "execution_count": 18,
   "metadata": {
    "collapsed": false
   },
   "outputs": [],
   "source": [
    "def Loan_Function():\n",
    "    goodAnswer=False\n",
    "    #this while loop will continue until goodAnswer is true\n",
    "    while(goodAnswer!=True):\n",
    "        Q1 = input(\"Please choose a loan category: home, wedding, medical, business, car, vacation:\" )\n",
    "        if Q1.lower() in category_list:\n",
    "            #loop stops because user chose word in category list\n",
    "            goodAnswer=True\n",
    "            #makes the word lowercase\n",
    "            Q1 = Q1.lower()\n",
    "            #makes a copy of the dataframe inside the function so that it does not modify the actual dataframe\n",
    "            df = cat.copy(deep=True)\n",
    "            #subsets the dataframe based on whatever the user selected in the first question \"Q1\"\n",
    "            df_cat = df.loc[df['cat'] == Q1]\n",
    "            \n",
    "            #separate testing and training data\n",
    "            #splits the data set using 70% for training and 30% for testing\n",
    "            Train, Test = train_test_split(df_cat, test_size=0.30, random_state=42)\n",
    "            #our independent variable is interest rate\n",
    "            xTrain =Train[[\"int_rate\", \"dti\" ,\"loan_amnt\"]]\n",
    "            xTest = Test[[\"int_rate\", \"dti\" ,\"loan_amnt\"]]\n",
    "            #dependent variable is loan status binary variable created in the function above\n",
    "            yTrain = Train[\"loan_stat_num\"]\n",
    "            yTest = Test[\"loan_stat_num\"]\n",
    "            yTrain = yTrain.astype(np.float)\n",
    "            yTest  = yTest.astype(np.float)\n",
    "\n",
    "            \n",
    "            #build model\n",
    "            #we use logisitic regression because we are going to predict a binary outcome variable\n",
    "            Model = LR(class_weight=\"balanced\")\n",
    "            Model.fit(xTrain, yTrain)\n",
    "            yPredTest = Model.predict(xTest)\n",
    "            A = Model.coef_[0]\n",
    "            b = Model.intercept_\n",
    "\n",
    "            print (accuracy_score(yPredTest, yTest))\n",
    "            \n",
    "            #this function will be useful below in the case the user does not input a number for interest rate\n",
    "            def is_number(Q2):\n",
    "                try:\n",
    "                    float(Q2)\n",
    "                    return True\n",
    "                except ValueError:\n",
    "                    return False\n",
    "            \n",
    "            Input = []\n",
    "            \n",
    "            Q2=''\n",
    "            #this while loop will continue until is_number is true\n",
    "            while (is_number(Q2) == False):\n",
    "                Q2 = input(\"What is the interest rate of the loan? \")\n",
    "                \n",
    "            Q3=''\n",
    "            #this while loop will continue until is_number is true\n",
    "            while (is_number(Q3) == False):\n",
    "                Q3 = input(\"What is the dti for the loan? \")\n",
    "                \n",
    "            Q4=''\n",
    "            #this while loop will continue until is_number is true\n",
    "            while (is_number(Q4) == False):\n",
    "                Q4 = input(\"What is the loan amount for the loan? \")\n",
    "            \n",
    "            #to account for user entering decimal instead of integer\n",
    "            int_rate = float(Q2)\n",
    "            if int_rate < 1:\n",
    "                int_rate =  int_rate*100\n",
    "            \n",
    "            dti = float(Q3)\n",
    "            loan_amnt = float(Q4)\n",
    "            \n",
    "            Input.append(int_rate)\n",
    "            Input.append(dti)\n",
    "            Input.append(loan_amnt)\n",
    "            \n",
    "            my_arr = np.array(Input)\n",
    "            my_arr = my_arr.reshape(1,-1)            \n",
    "                        \n",
    "            #Predicts the probability of success and failure given our model\n",
    "            prediction = Model.predict(my_arr)\n",
    "            if prediction == 1:\n",
    "                print (\"We predict this loan will succeed\")\n",
    "            if prediction == 0:\n",
    "                print (\"We predict this loan will fail\")\n",
    "            \n",
    "            X = Model.predict_proba(my_arr)\n",
    "            if (prediction == 1):\n",
    "                print(\"\\nFor loans in the {0} category, at an interest rate of {1}%, dti of {3}, and loan amount of {4}: \\nThe loan will succeed with an accuracy rate of {2}\".format(Q1,int_rate,X[:,1],dti,loan_amnt))\n",
    "            elif (prediction == 0):\n",
    "                print(\"\\nFor loans in the {0} category, at an interest rate of {1}%, dti of {3}, and loan amount of {4}: \\nThe loan will fail with an accuracy rate of {2}\".format(Q1,int_rate,X[:,0],dti,loan_amnt))\n",
    "            else:\n",
    "                print(\"Not possible\")\n",
    "            #print (\"For loans in the {0} category, at an interest rate of {1}%: \\nthe probability of success is {2} \\nand probability of failure is {3}\".format(Q1,int_rate,X[:,0]))\n",
    "            \n",
    "        else:\n",
    "            print (\"That is not a possible category. Please check your spelling or choose again!\")"
   ]
  },
  {
   "cell_type": "code",
   "execution_count": null,
   "metadata": {
    "collapsed": false,
    "scrolled": true
   },
   "outputs": [],
   "source": [
    "Loan_Function()"
   ]
  },
  {
   "cell_type": "code",
   "execution_count": 19,
   "metadata": {
    "collapsed": false
   },
   "outputs": [
    {
     "data": {
      "image/png": "[encoded data removed]",
      "text/plain": [
       "<matplotlib.figure.Figure at 0x103474d30>"
      ]
     },
     "metadata": {},
     "output_type": "display_data"
    }
   ],
   "source": [
    "#plotting our logisitic regression function using interest rate and all of our categorized data\n",
    "\n",
    "            \n",
    "Train, Test = train_test_split(cat, test_size=0.30, random_state=42)\n",
    "xTrain =Train[[\"int_rate\"]]\n",
    "xTest = Test[[\"int_rate\"]]\n",
    "yTrain = Train[\"loan_stat_num\"]\n",
    "yTest = Test[\"loan_stat_num\"]\n",
    "yTrain = yTrain.astype(np.float)\n",
    "yTest  = yTest.astype(np.float)\n",
    "\n",
    "Model = LR(class_weight=\"balanced\")\n",
    "Model.fit(xTrain, yTrain)\n",
    "yPredTest = Model.predict(xTest)\n",
    "A = Model.coef_[0]\n",
    "b = Model.intercept_\n",
    "\n",
    "plt.scatter(xTrain, yTrain, color='black', zorder=20)\n",
    "X1 = []\n",
    "y = []\n",
    "\n",
    "\n",
    "for x in range(-200,200,1):\n",
    "    y.append(1/(1+(math.exp(-(A*x+b)))))\n",
    "    X1.append(x)\n",
    "    \n",
    "plt.plot(X1,y)\n",
    "plt.ylabel('Loan Success')\n",
    "plt.xlabel('Interest Rate')\n",
    "plt.title('Loan Success and Interest Rate Function')\n",
    "plt.show()\n",
    "\n",
    "\n"
   ]
  },
  {
   "cell_type": "markdown",
   "metadata": {},
   "source": [
    "# SVM Model and Function"
   ]
  },
  {
   "cell_type": "code",
   "execution_count": 20,
   "metadata": {
    "collapsed": false
   },
   "outputs": [],
   "source": [
    "#Building a SVM Model\n",
    "df = cat.copy(deep=True)"
   ]
  },
  {
   "cell_type": "code",
   "execution_count": 21,
   "metadata": {
    "collapsed": false
   },
   "outputs": [
    {
     "data": {
      "text/plain": [
       "(328, 34)"
      ]
     },
     "execution_count": 21,
     "metadata": {},
     "output_type": "execute_result"
    }
   ],
   "source": [
    "Data10 = df.loc[df[\"loan_stat_num\"]== 0]\n",
    "Data10.shape"
   ]
  },
  {
   "cell_type": "code",
   "execution_count": 22,
   "metadata": {
    "collapsed": false
   },
   "outputs": [
    {
     "data": {
      "text/plain": [
       "(1592, 34)"
      ]
     },
     "execution_count": 22,
     "metadata": {},
     "output_type": "execute_result"
    }
   ],
   "source": [
    "Data20 = df.loc[df[\"loan_stat_num\"]== 1]\n",
    "Data20.shape"
   ]
  },
  {
   "cell_type": "code",
   "execution_count": 23,
   "metadata": {
    "collapsed": true
   },
   "outputs": [],
   "source": [
    "from sklearn import datasets\n",
    "from sklearn import svm\n",
    "import numpy as np\n",
    "from sklearn.cross_validation import train_test_split\n",
    "import matplotlib.pyplot as plt\n",
    "from sklearn import metrics\n",
    "%matplotlib inline"
   ]
  },
  {
   "cell_type": "code",
   "execution_count": 24,
   "metadata": {
    "collapsed": false
   },
   "outputs": [],
   "source": [
    "frames = [Data10, Data20]"
   ]
  },
  {
   "cell_type": "code",
   "execution_count": 25,
   "metadata": {
    "collapsed": true
   },
   "outputs": [],
   "source": [
    "Data4 = pd.concat(frames)"
   ]
  },
  {
   "cell_type": "code",
   "execution_count": 26,
   "metadata": {
    "collapsed": true
   },
   "outputs": [],
   "source": [
    "Data5 = Data4[[\"int_rate\",\"loan_amnt\"]]"
   ]
  },
  {
   "cell_type": "code",
   "execution_count": 27,
   "metadata": {
    "collapsed": true
   },
   "outputs": [],
   "source": [
    "Data6 = Data4[\"loan_stat_num\"]"
   ]
  },
  {
   "cell_type": "code",
   "execution_count": 28,
   "metadata": {
    "collapsed": false
   },
   "outputs": [
    {
     "data": {
      "text/plain": [
       "(1920, 2)"
      ]
     },
     "execution_count": 28,
     "metadata": {},
     "output_type": "execute_result"
    }
   ],
   "source": [
    "Data5.shape"
   ]
  },
  {
   "cell_type": "code",
   "execution_count": 29,
   "metadata": {
    "collapsed": false
   },
   "outputs": [],
   "source": [
    "xTrain, xTest, yTrain, yTest = train_test_split(Data5, Data6, test_size=0.30, random_state=42)"
   ]
  },
  {
   "cell_type": "code",
   "execution_count": 30,
   "metadata": {
    "collapsed": false
   },
   "outputs": [],
   "source": [
    "svm_model2 = svm.SVC(kernel='rbf', gamma=0.05, C=16, class_weight='balanced')"
   ]
  },
  {
   "cell_type": "code",
   "execution_count": 31,
   "metadata": {
    "collapsed": false
   },
   "outputs": [
    {
     "data": {
      "text/plain": [
       "SVC(C=16, cache_size=200, class_weight='balanced', coef0=0.0,\n",
       "  decision_function_shape=None, degree=3, gamma=0.05, kernel='rbf',\n",
       "  max_iter=-1, probability=False, random_state=None, shrinking=True,\n",
       "  tol=0.001, verbose=False)"
      ]
     },
     "execution_count": 31,
     "metadata": {},
     "output_type": "execute_result"
    }
   ],
   "source": [
    "svm_model2.fit(xTrain, yTrain)"
   ]
  },
  {
   "cell_type": "code",
   "execution_count": 32,
   "metadata": {
    "collapsed": false
   },
   "outputs": [],
   "source": [
    "svm_ypred2 = svm_model2.predict(xTest)"
   ]
  },
  {
   "cell_type": "code",
   "execution_count": 33,
   "metadata": {
    "collapsed": false
   },
   "outputs": [
    {
     "name": "stdout",
     "output_type": "stream",
     "text": [
      "[[ 37  54]\n",
      " [166 319]]\n"
     ]
    }
   ],
   "source": [
    "print(metrics.confusion_matrix(yTest, svm_ypred2))"
   ]
  },
  {
   "cell_type": "code",
   "execution_count": null,
   "metadata": {
    "collapsed": false
   },
   "outputs": [],
   "source": [
    "plt.figure(figsize = (20,20))\n",
    "plt.scatter(xTrain.ix[:, 0], xTrain.ix[:, 1], c = yTrain, s = 100)\n",
    "smoothness = .2\n",
    "x_min, x_max = xTrain.ix[:, 0].min() - 10, xTrain.ix[:, 0].max() + 10\n",
    "y_min, y_max = xTrain.ix[:, 1].min() - 10, xTrain.ix[:, 1].max() + 10\n",
    "xx, yy = np.meshgrid(np.arange(x_min, x_max, smoothness), np.arange(y_min, y_max, smoothness))\n",
    "Z = svm_model2.decision_function(np.c_[xx.ravel(), yy.ravel()])\n",
    "Z = Z.reshape(xx.shape)\n",
    "plt.contour(xx, yy, Z, s = 2, alpha=0.5)\n",
    "plt.show()"
   ]
  },
  {
   "cell_type": "code",
   "execution_count": null,
   "metadata": {
    "collapsed": true
   },
   "outputs": [],
   "source": []
  }
 ],
 "metadata": {
  "anaconda-cloud": {},
  "kernelspec": {
   "display_name": "Python [default]",
   "language": "python",
   "name": "python3"
  },
  "language_info": {
   "codemirror_mode": {
    "name": "ipython",
    "version": 3
   },
   "file_extension": ".py",
   "mimetype": "text/x-python",
   "name": "python",
   "nbconvert_exporter": "python",
   "pygments_lexer": "ipython3",
   "version": "3.5.2"
  }
 },
 "nbformat": 4,
 "nbformat_minor": 0
}
